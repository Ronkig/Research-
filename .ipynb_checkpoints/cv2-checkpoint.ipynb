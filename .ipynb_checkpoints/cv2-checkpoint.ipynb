{
 "cells": [
  {
   "cell_type": "code",
   "execution_count": 1,
   "id": "a03727f0-9a20-4072-857f-10d406899706",
   "metadata": {},
   "outputs": [],
   "source": [
    "import cv2 as cam\n",
    "import numpy as np\n",
    "import matplotlib.pyplot as plt"
   ]
  },
  {
   "cell_type": "code",
   "execution_count": 2,
   "id": "2d7f6dd2-bf01-46c4-b716-593bbd50ee9c",
   "metadata": {},
   "outputs": [],
   "source": [
    "cap = cam.VideoCapture(0)\n",
    "\n",
    "if not cap.isOpened():\n",
    "    print(\"unable to open Camera\")\n",
    "    exit()\n",
    "\n",
    "while True:\n",
    "    ret,frame = cap.read()\n",
    "    if not ret:\n",
    "        break\n",
    "    cam.imshow(\"frame\",frame)\n",
    "    if cam.waitKey(1) & 0xFF == ord('q'):\n",
    "        break;\n",
    "        \n",
    "cap.release()\n",
    "cam.destroyAllWindows()"
   ]
  },
  {
   "cell_type": "code",
   "execution_count": 3,
   "id": "9a90dfae-8337-4856-a543-da4be367efcd",
   "metadata": {},
   "outputs": [],
   "source": [
    "frame = cam.imread(\"train img/purse1.jpg\")"
   ]
  },
  {
   "cell_type": "code",
   "execution_count": 49,
   "id": "ffb6c11d-4cae-4248-8ecc-47c20a6459c6",
   "metadata": {},
   "outputs": [],
   "source": [
    "frame = cam.resize(frame,(648,648))"
   ]
  },
  {
   "cell_type": "code",
   "execution_count": 50,
   "id": "c1b450ba-74aa-43d1-b2b5-5c640b3990e9",
   "metadata": {},
   "outputs": [],
   "source": [
    "cam.imshow(\"frame\",cam.cvtColor(frame, cam.COLOR_BGR2GRAY))\n",
    "if cam.waitKey(0):\n",
    "    cam.destroyAllWindows()"
   ]
  },
  {
   "cell_type": "code",
   "execution_count": 51,
   "id": "60844a72-43fb-454e-88b7-0bf4a54aeb58",
   "metadata": {},
   "outputs": [],
   "source": [
    "import tensorflow as tf\n",
    "from tensorflow.keras.models import Sequential, Model\n",
    "from tensorflow.keras.layers import Conv2D, MaxPooling2D, Flatten, Dense"
   ]
  },
  {
   "cell_type": "code",
   "execution_count": 52,
   "id": "9e5189d2-3c81-42f1-9df8-6557c88177b1",
   "metadata": {},
   "outputs": [
    {
     "data": {
      "text/plain": [
       "TensorShape([648, 648, 3])"
      ]
     },
     "execution_count": 52,
     "metadata": {},
     "output_type": "execute_result"
    }
   ],
   "source": [
    "image = tf.cast(frame, tf.float32)\n",
    "image.shape"
   ]
  },
  {
   "cell_type": "code",
   "execution_count": 53,
   "id": "257c112b-7baa-49e9-8d1d-bad5ed1f191c",
   "metadata": {},
   "outputs": [
    {
     "data": {
      "text/plain": [
       "TensorShape([1, 648, 648, 3])"
      ]
     },
     "execution_count": 53,
     "metadata": {},
     "output_type": "execute_result"
    }
   ],
   "source": [
    "input_tensor = tf.expand_dims(image, axis=0)\n",
    "input_tensor.shape"
   ]
  },
  {
   "cell_type": "code",
   "execution_count": 54,
   "id": "c197dce1-5297-43e8-bcd2-31fe001a3980",
   "metadata": {},
   "outputs": [],
   "source": [
    "conv_layer0 = Conv2D(filters=32\n",
    "                    , kernel_size=(3, 3), activation='relu')\n",
    "\n",
    "conv_layer1 = Conv2D(filters=32\n",
    "                    , kernel_size=(3, 3), activation='relu')\n",
    "\n",
    "pooling_layer0 = MaxPooling2D(pool_size=(3,3))\n",
    "\n",
    "conv_layer2 = Conv2D(filters=64\n",
    "                    , kernel_size=(3, 3), activation='relu')\n",
    "\n",
    "conv_layer3 = Conv2D(filters=64\n",
    "                    , kernel_size=(3, 3), activation='relu')\n",
    "\n",
    "pooling_layer1 = MaxPooling2D(pool_size=(3,3))\n",
    "\n",
    "conv_layer4 = Conv2D(filters=128\n",
    "                    , kernel_size=(3, 3), activation='relu')\n",
    "\n",
    "conv_layer5 = Conv2D(filters=128\n",
    "                    , kernel_size=(3, 3), activation='relu')\n",
    "\n",
    "conv_layer6 = Conv2D(filters=128\n",
    "                    , kernel_size=(3, 3), activation='relu')\n",
    "\n",
    "pooling_layer2 = MaxPooling2D(pool_size=(3,3))\n",
    "\n",
    "flatten_layer = Flatten()\n",
    "\n",
    "#ense_layer1 = Dense(units=5,activation)"
   ]
  },
  {
   "cell_type": "code",
   "execution_count": 55,
   "id": "47c75272-bff9-4a5c-8ff7-2380a98ffdbc",
   "metadata": {},
   "outputs": [
    {
     "data": {
      "text/plain": [
       "(646, 646, 32)"
      ]
     },
     "execution_count": 55,
     "metadata": {},
     "output_type": "execute_result"
    }
   ],
   "source": [
    "output_tensor0 = conv_layer0(input_tensor)\n",
    "output_image0 = tf.cast(output_tensor0[0]*255,tf.uint8)\n",
    "output_image0 = output_image0.numpy()\n",
    "output_image0.shape"
   ]
  },
  {
   "cell_type": "code",
   "execution_count": 9,
   "id": "75c54a23-9876-45ab-907e-232f57e1c8a2",
   "metadata": {},
   "outputs": [],
   "source": [
    "for i in range(32):\n",
    "    temp_img = output_image0[:,:,i]\n",
    "    cam.imshow(\"frame\",temp_img)\n",
    "    if cam.waitKey(0) & 0xFF == ord('q'):\n",
    "        pass;\n",
    "cam.destroyAllWindows()"
   ]
  },
  {
   "cell_type": "code",
   "execution_count": 56,
   "id": "9b57d1ca-11ac-46e8-ac8a-0b3ca6131baf",
   "metadata": {},
   "outputs": [
    {
     "data": {
      "text/plain": [
       "(644, 644, 32)"
      ]
     },
     "execution_count": 56,
     "metadata": {},
     "output_type": "execute_result"
    }
   ],
   "source": [
    "output_tensor1 = conv_layer1(output_tensor0)\n",
    "output_image1 = tf.cast(output_tensor1[0]*255,tf.uint8)\n",
    "output_image1 = output_image1.numpy()\n",
    "output_image1.shape"
   ]
  },
  {
   "cell_type": "code",
   "execution_count": null,
   "id": "5e2f16bb-2c07-474f-9af3-50321cca37ef",
   "metadata": {},
   "outputs": [],
   "source": [
    "for i in range(32):\n",
    "    temp_img = output_image1[:,:,i]\n",
    "    cam.imshow(\"frame\",temp_img)\n",
    "    if cam.waitKey(0) & 0xFF == ord('q'):\n",
    "        pass;\n",
    "cam.destroyAllWindows()"
   ]
  },
  {
   "cell_type": "code",
   "execution_count": 57,
   "id": "203c470f-5779-4bef-a751-0b7d8cbb6b8d",
   "metadata": {},
   "outputs": [
    {
     "data": {
      "text/plain": [
       "(214, 214, 32)"
      ]
     },
     "execution_count": 57,
     "metadata": {},
     "output_type": "execute_result"
    }
   ],
   "source": [
    "pool_output_tensor0 = pooling_layer0(output_tensor1)\n",
    "pool_output_image0 = tf.cast(pool_output_tensor0[0]*255,tf.uint8)\n",
    "pool_output_image0 = pool_output_image0.numpy()\n",
    "pool_output_image0.shape"
   ]
  },
  {
   "cell_type": "code",
   "execution_count": 25,
   "id": "3b2a5efc-6dd9-4c2f-913d-8475c3e495ba",
   "metadata": {},
   "outputs": [],
   "source": [
    "for i in range(32):\n",
    "    temp_img = pool_output_image0[:,:,i]\n",
    "    cam.imshow(\"frame\",temp_img)\n",
    "    if cam.waitKey(0) & 0xFF == ord('q'):\n",
    "        pass;\n",
    "cam.destroyAllWindows()"
   ]
  },
  {
   "cell_type": "code",
   "execution_count": 58,
   "id": "d08c3140-0dcb-45a6-9754-83ca92ed8138",
   "metadata": {},
   "outputs": [
    {
     "data": {
      "text/plain": [
       "(212, 212, 64)"
      ]
     },
     "execution_count": 58,
     "metadata": {},
     "output_type": "execute_result"
    }
   ],
   "source": [
    "output_tensor2 = conv_layer2(pool_output_tensor0)\n",
    "output_image2 = tf.cast(output_tensor2[0]*255,tf.uint8)\n",
    "output_image2 = output_image2.numpy()\n",
    "output_image2.shape"
   ]
  },
  {
   "cell_type": "code",
   "execution_count": 27,
   "id": "b5fc43ab-2f6f-46b1-b141-ad9ad9ae543b",
   "metadata": {},
   "outputs": [],
   "source": [
    "for i in range(64):\n",
    "    temp_img = output_image2[:,:,i]\n",
    "    cam.imshow(\"frame\",temp_img)\n",
    "    if cam.waitKey(0) & 0xFF == ord('q'):\n",
    "        pass;\n",
    "cam.destroyAllWindows()"
   ]
  },
  {
   "cell_type": "code",
   "execution_count": 59,
   "id": "066ad0a1-c179-466d-982e-2da499d1c83c",
   "metadata": {},
   "outputs": [
    {
     "data": {
      "text/plain": [
       "(210, 210, 64)"
      ]
     },
     "execution_count": 59,
     "metadata": {},
     "output_type": "execute_result"
    }
   ],
   "source": [
    "output_tensor3 = conv_layer3(output_tensor2)\n",
    "output_image3 = tf.cast(output_tensor3[0]*255,tf.uint8)\n",
    "output_image3 = output_image3.numpy()\n",
    "output_image3.shape"
   ]
  },
  {
   "cell_type": "code",
   "execution_count": 22,
   "id": "f7502b79-1ec0-4f5b-9822-b0a1abb20849",
   "metadata": {},
   "outputs": [],
   "source": [
    "for i in range(64):\n",
    "    temp_img = output_image3[:,:,i]\n",
    "    cam.imshow(\"frame\",temp_img)\n",
    "    if cam.waitKey(0) & 0xFF == ord('q'):\n",
    "        pass;\n",
    "cam.destroyAllWindows()"
   ]
  },
  {
   "cell_type": "code",
   "execution_count": 60,
   "id": "5e0fb1c7-4ba5-47d3-a16d-d4a2b73c2511",
   "metadata": {},
   "outputs": [
    {
     "data": {
      "text/plain": [
       "(70, 70, 64)"
      ]
     },
     "execution_count": 60,
     "metadata": {},
     "output_type": "execute_result"
    }
   ],
   "source": [
    "pool_output_tensor1 = pooling_layer1(output_tensor3)\n",
    "pool_output_image1 = tf.cast(pool_output_tensor1[0]*255,tf.uint8)\n",
    "pool_output_image1 = pool_output_image1.numpy()\n",
    "pool_output_image1.shape"
   ]
  },
  {
   "cell_type": "code",
   "execution_count": 24,
   "id": "ca5c378e-b266-46fb-b432-548537cc0b1e",
   "metadata": {},
   "outputs": [],
   "source": [
    "for i in range(64):\n",
    "    temp_img = pool_output_image1[:,:,i]\n",
    "    cam.imshow(\"frame\",temp_img)\n",
    "    if cam.waitKey(0) & 0xFF == ord('q'):\n",
    "        pass;\n",
    "cam.destroyAllWindows()"
   ]
  },
  {
   "cell_type": "code",
   "execution_count": 61,
   "id": "06d372a9-e2e2-4a40-b639-c80351689f27",
   "metadata": {},
   "outputs": [
    {
     "data": {
      "text/plain": [
       "(68, 68, 128)"
      ]
     },
     "execution_count": 61,
     "metadata": {},
     "output_type": "execute_result"
    }
   ],
   "source": [
    "output_tensor4 = conv_layer4(pool_output_tensor1)\n",
    "output_image4 = tf.cast(output_tensor4[0]*255,tf.uint8)\n",
    "output_image4 = output_image4.numpy()\n",
    "output_image4.shape"
   ]
  },
  {
   "cell_type": "code",
   "execution_count": 26,
   "id": "1d3f99b9-7671-44c6-bd28-163126ae05ae",
   "metadata": {},
   "outputs": [],
   "source": [
    "for i in range(128):\n",
    "    temp_img = output_image4[:,:,i]\n",
    "    cam.imshow(\"frame\",temp_img)\n",
    "    if cam.waitKey(0) & 0xFF == ord('q'):\n",
    "        pass;\n",
    "cam.destroyAllWindows()"
   ]
  },
  {
   "cell_type": "code",
   "execution_count": 62,
   "id": "807c03d6-5314-4100-b692-d7e13869c83d",
   "metadata": {},
   "outputs": [
    {
     "data": {
      "text/plain": [
       "(66, 66, 128)"
      ]
     },
     "execution_count": 62,
     "metadata": {},
     "output_type": "execute_result"
    }
   ],
   "source": [
    "output_tensor5 = conv_layer5(output_tensor4)\n",
    "output_image5 = tf.cast(output_tensor5[0]*255,tf.uint8)\n",
    "output_image5 = output_image5.numpy()\n",
    "output_image5.shape"
   ]
  },
  {
   "cell_type": "code",
   "execution_count": 28,
   "id": "4d631ddc-8a63-40f7-8a10-2da655ac43ec",
   "metadata": {},
   "outputs": [],
   "source": [
    "for i in range(128):\n",
    "    temp_img = output_image5[:,:,i]\n",
    "    cam.imshow(\"frame\",temp_img)\n",
    "    if cam.waitKey(0) & 0xFF == ord('q'):\n",
    "        pass;\n",
    "cam.destroyAllWindows()"
   ]
  },
  {
   "cell_type": "code",
   "execution_count": 63,
   "id": "0724109f-e675-45b0-afef-8c388b70908e",
   "metadata": {},
   "outputs": [
    {
     "data": {
      "text/plain": [
       "(64, 64, 128)"
      ]
     },
     "execution_count": 63,
     "metadata": {},
     "output_type": "execute_result"
    }
   ],
   "source": [
    "output_tensor6 = conv_layer6(output_tensor5)\n",
    "output_image6 = tf.cast(output_tensor6[0]*255,tf.uint8)\n",
    "output_image6 = output_image6.numpy()\n",
    "output_image6.shape"
   ]
  },
  {
   "cell_type": "code",
   "execution_count": 30,
   "id": "0d6d474e-dfa6-4f09-808c-3623c5c06e63",
   "metadata": {},
   "outputs": [],
   "source": [
    "for i in range(128):\n",
    "    temp_img = output_image6[:,:,i]\n",
    "    cam.imshow(\"frame\",temp_img)\n",
    "    if cam.waitKey(0) & 0xFF == ord('q'):\n",
    "        pass;\n",
    "cam.destroyAllWindows()"
   ]
  },
  {
   "cell_type": "code",
   "execution_count": 64,
   "id": "19b4bd7e-d576-440d-891d-f1cc87631e66",
   "metadata": {},
   "outputs": [
    {
     "data": {
      "text/plain": [
       "(21, 21, 128)"
      ]
     },
     "execution_count": 64,
     "metadata": {},
     "output_type": "execute_result"
    }
   ],
   "source": [
    "pool_output_tensor2 = pooling_layer2(output_tensor6)\n",
    "pool_output_image2 = tf.cast(pool_output_tensor2[0]*255,tf.uint8)\n",
    "pool_output_image2 = pool_output_image2.numpy()\n",
    "pool_output_image2.shape"
   ]
  },
  {
   "cell_type": "code",
   "execution_count": 34,
   "id": "e20d2701-b13e-4f18-ad5c-cd3a1dad890e",
   "metadata": {},
   "outputs": [],
   "source": [
    "for i in range(128):\n",
    "    temp_img = pool_output_image2[:,:,i]\n",
    "    cam.imshow(\"frame\",temp_img)\n",
    "    if cam.waitKey(0) & 0xFF == ord('q'):\n",
    "        pass;\n",
    "cam.destroyAllWindows()"
   ]
  },
  {
   "cell_type": "code",
   "execution_count": 44,
   "id": "03732169-b583-4353-a875-352c68259d0e",
   "metadata": {},
   "outputs": [
    {
     "data": {
      "text/plain": [
       "(56448,)"
      ]
     },
     "execution_count": 44,
     "metadata": {},
     "output_type": "execute_result"
    }
   ],
   "source": [
    "flatten_output_tensor = flatten_layer(pool_output_tensor2)\n",
    "flatten_output = tf.cast(flatten_output_tensor[0]*255,tf.uint8)\n",
    "flatten_output = flatten_output.numpy()\n",
    "flatten_output.shape"
   ]
  },
  {
   "cell_type": "code",
   "execution_count": null,
   "id": "efbdf80d-29ae-49ab-8764-753a514437e3",
   "metadata": {},
   "outputs": [],
   "source": []
  }
 ],
 "metadata": {
  "kernelspec": {
   "display_name": "Python 3 (ipykernel)",
   "language": "python",
   "name": "python3"
  },
  "language_info": {
   "codemirror_mode": {
    "name": "ipython",
    "version": 3
   },
   "file_extension": ".py",
   "mimetype": "text/x-python",
   "name": "python",
   "nbconvert_exporter": "python",
   "pygments_lexer": "ipython3",
   "version": "3.13.5"
  }
 },
 "nbformat": 4,
 "nbformat_minor": 5
}
