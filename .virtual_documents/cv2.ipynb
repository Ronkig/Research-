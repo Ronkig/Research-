import cv2 as cam
import numpy as np
import matplotlib.pyplot as plt


cap = cam.VideoCapture(0)

if not cap.isOpened():
    print("unable to open Camera")
    exit()

while True:
    ret,frame = cap.read()
    if not ret:
        break
    cam.imshow("frame",frame)
    if cam.waitKey(1) & 0xFF == ord('q'):
        break;
        
cap.release()
cam.destroyAllWindows()


frame = cam.imread("train img/purse1.jpg")


np.reshape(frame,(600,600,3))


cam.imshow("frame",cam.cvtColor(frame, cam.COLOR_BGR2GRAY))
if cam.waitKey(0):
    cam.destroyAllWindows()


import tensorflow as tf
from tensorflow.keras.models import Sequential, Model
from tensorflow.keras.layers import Conv2D, MaxPooling2D, Flatten, Dense


image = tf.cast(frame, tf.float32)
image.shape


input_tensor = tf.expand_dims(image, axis=0)
input_tensor.shape


conv_layer0 = Conv2D(filters=32
                    , kernel_size=(3, 3), activation='relu')

conv_layer1 = Conv2D(filters=32
                    , kernel_size=(3, 3), activation='relu')

pooling_layer0 = MaxPooling2D(pool_size=(2,2))

conv_layer2 = Conv2D(filters=64
                    , kernel_size=(3, 3), activation='relu')

conv_layer3 = Conv2D(filters=64
                    , kernel_size=(3, 3), activation='relu')

pooling_layer1 = MaxPooling2D(pool_size=(2,2))

conv_layer4 = Conv2D(filters=128
                    , kernel_size=(3, 3), activation='relu')

conv_layer5 = Conv2D(filters=128
                    , kernel_size=(3, 3), activation='relu')

conv_layer6 = Conv2D(filters=128
                    , kernel_size=(3, 3), activation='relu')

pooling_layer2 = MaxPooling2D(pool_size=(2,2))


output_tensor0 = conv_layer0(input_tensor)
output_image0 = tf.cast(output_tensor0[0]*255,tf.uint8)
output_image0 = output_image0.numpy()
output_image0.shape


for i in range(32):
    temp_img = output_image0[:,:,i]
    cam.imshow("frame",temp_img)
    if cam.waitKey(0) & 0xFF == ord('q'):
        pass;
cam.destroyAllWindows()


output_tensor1 = conv_layer1(output_tensor0)
output_image1 = tf.cast(output_tensor1[0]*255,tf.uint8)
output_image1 = output_image1.numpy()
output_image1.shape


for i in range(32):
    temp_img = output_image1[:,:,i]
    cam.imshow("frame",temp_img)
    if cam.waitKey(0) & 0xFF == ord('q'):
        pass;
cam.destroyAllWindows()


pool_output_tensor0 = pooling_layer0(output_tensor1)
pool_output_image0 = tf.cast(pool_output_tensor0[0]*255,tf.uint8)
pool_output_image0 = pool_output_image0.numpy()
pool_output_image0.shape


for i in range(32):
    temp_img = pool_output_image0[:,:,i]
    cam.imshow("frame",temp_img)
    if cam.waitKey(0) & 0xFF == ord('q'):
        pass;
cam.destroyAllWindows()


output_tensor2 = conv_layer2(pool_output_tensor0)
output_image2 = tf.cast(output_tensor2[0]*255,tf.uint8)
output_image2 = output_image2.numpy()
output_image2.shape


for i in range(64):
    temp_img = output_image2[:,:,i]
    cam.imshow("frame",temp_img)
    if cam.waitKey(0) & 0xFF == ord('q'):
        pass;
cam.destroyAllWindows()


output_tensor3 = conv_layer3(output_tensor2)
output_image3 = tf.cast(output_tensor3[0]*255,tf.uint8)
output_image3 = output_image3.numpy()
output_image3.shape


for i in range(64):
    temp_img = output_image3[:,:,i]
    cam.imshow("frame",temp_img)
    if cam.waitKey(0) & 0xFF == ord('q'):
        pass;
cam.destroyAllWindows()


pool_output_tensor1 = pooling_layer1(output_tensor3)
pool_output_image1 = tf.cast(pool_output_tensor1[0]*255,tf.uint8)
pool_output_image1 = pool_output_image1.numpy()
pool_output_image1.shape


for i in range(64):
    temp_img = pool_output_image1[:,:,i]
    cam.imshow("frame",temp_img)
    if cam.waitKey(0) & 0xFF == ord('q'):
        pass;
cam.destroyAllWindows()


output_tensor4 = conv_layer4(pool_output_tensor1)
output_image4 = tf.cast(output_tensor4[0]*255,tf.uint8)
output_image4 = output_image4.numpy()
output_image4.shape


for i in range(128):
    temp_img = output_image4[:,:,i]
    cam.imshow("frame",temp_img)
    if cam.waitKey(0) & 0xFF == ord('q'):
        pass;
cam.destroyAllWindows()


output_tensor5 = conv_layer5(output_tensor4)
output_image5 = tf.cast(output_tensor5[0]*255,tf.uint8)
output_image5 = output_image5.numpy()
output_image5.shape


for i in range(128):
    temp_img = output_image5[:,:,i]
    cam.imshow("frame",temp_img)
    if cam.waitKey(0) & 0xFF == ord('q'):
        pass;
cam.destroyAllWindows()


output_tensor6 = conv_layer6(output_tensor5)
output_image6 = tf.cast(output_tensor6[0]*255,tf.uint8)
output_image6 = output_image6.numpy()
output_image6.shape


for i in range(128):
    temp_img = output_image6[:,:,i]
    cam.imshow("frame",temp_img)
    if cam.waitKey(0) & 0xFF == ord('q'):
        pass;
cam.destroyAllWindows()


pool_output_tensor2 = pooling_layer2(output_tensor6)
pool_output_image2 = tf.cast(pool_output_tensor1[0]*255,tf.uint8)
pool_output_image2 = pool_output_image2.numpy()
pool_output_image2.shape


for i in range(128):
    temp_img = pool_output_image2[:,:,i]
    cam.imshow("frame",temp_img)
    if cam.waitKey(0) & 0xFF == ord('q'):
        pass;
cam.destroyAllWindows()



