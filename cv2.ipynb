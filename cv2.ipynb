{
 "cells": [
  {
   "cell_type": "code",
   "execution_count": 1,
   "id": "a03727f0-9a20-4072-857f-10d406899706",
   "metadata": {},
   "outputs": [],
   "source": [
    "import cv2 as cam"
   ]
  },
  {
   "cell_type": "code",
   "execution_count": 2,
   "id": "b8f01f06-14a7-4387-ba43-e23905f93b1e",
   "metadata": {},
   "outputs": [],
   "source": [
    "cap = cam.VideoCapture(0)"
   ]
  },
  {
   "cell_type": "code",
   "execution_count": 3,
   "id": "4a4d913b-1e77-4c26-a2c4-5668cbffaa9d",
   "metadata": {},
   "outputs": [],
   "source": [
    "ret,frame = cap.read()"
   ]
  },
  {
   "cell_type": "code",
   "execution_count": 4,
   "id": "c1b450ba-74aa-43d1-b2b5-5c640b3990e9",
   "metadata": {},
   "outputs": [],
   "source": [
    "cap.release()"
   ]
  },
  {
   "cell_type": "code",
   "execution_count": 5,
   "id": "fc4332a2-ee33-46b1-9af8-253f6867aa1c",
   "metadata": {},
   "outputs": [
    {
     "data": {
      "text/plain": [
       "array([[[49, 40, 47],\n",
       "        [49, 41, 48],\n",
       "        [48, 41, 48],\n",
       "        ...,\n",
       "        [72, 58, 60],\n",
       "        [71, 57, 59],\n",
       "        [70, 56, 58]],\n",
       "\n",
       "       [[49, 41, 48],\n",
       "        [49, 41, 48],\n",
       "        [48, 41, 48],\n",
       "        ...,\n",
       "        [71, 55, 59],\n",
       "        [71, 55, 59],\n",
       "        [71, 55, 59]],\n",
       "\n",
       "       [[51, 43, 49],\n",
       "        [50, 42, 48],\n",
       "        [49, 41, 47],\n",
       "        ...,\n",
       "        [71, 53, 59],\n",
       "        [71, 53, 60],\n",
       "        [71, 53, 60]],\n",
       "\n",
       "       ...,\n",
       "\n",
       "       [[28, 23, 25],\n",
       "        [28, 23, 25],\n",
       "        [28, 23, 25],\n",
       "        ...,\n",
       "        [13,  9, 15],\n",
       "        [13,  9, 15],\n",
       "        [12,  8, 14]],\n",
       "\n",
       "       [[29, 22, 25],\n",
       "        [29, 22, 25],\n",
       "        [30, 23, 26],\n",
       "        ...,\n",
       "        [16,  9, 14],\n",
       "        [15,  9, 14],\n",
       "        [14,  8, 13]],\n",
       "\n",
       "       [[29, 21, 24],\n",
       "        [30, 22, 25],\n",
       "        [30, 22, 25],\n",
       "        ...,\n",
       "        [17,  9, 13],\n",
       "        [17,  9, 14],\n",
       "        [16,  8, 13]]], shape=(480, 640, 3), dtype=uint8)"
      ]
     },
     "execution_count": 5,
     "metadata": {},
     "output_type": "execute_result"
    }
   ],
   "source": []
  },
  {
   "cell_type": "code",
   "execution_count": null,
   "id": "60844a72-43fb-454e-88b7-0bf4a54aeb58",
   "metadata": {},
   "outputs": [],
   "source": []
  }
 ],
 "metadata": {
  "kernelspec": {
   "display_name": "Python 3 (ipykernel)",
   "language": "python",
   "name": "python3"
  },
  "language_info": {
   "codemirror_mode": {
    "name": "ipython",
    "version": 3
   },
   "file_extension": ".py",
   "mimetype": "text/x-python",
   "name": "python",
   "nbconvert_exporter": "python",
   "pygments_lexer": "ipython3",
   "version": "3.13.5"
  }
 },
 "nbformat": 4,
 "nbformat_minor": 5
}
